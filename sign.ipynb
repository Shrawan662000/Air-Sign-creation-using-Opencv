{
  "cells": [
    {
      "cell_type": "markdown",
      "metadata": {},
      "source": [
        "#### reference code source : https://medium.com/@sarves021999/air-signature-creation-using-opencv-40f1536ecb8b\n",
        "#### if mediapipe getting install error then use collab\n",
        "##### collab link : https://colab.research.google.com/drive/1ZQpaf0qaylLKhRH1EdS80sPDgUcu1Lo_#scrollTo=zedIZIYmwjzl"
      ]
    },
    {
      "cell_type": "code",
      "execution_count": 54,
      "metadata": {
        "id": "GePHus3ltB6I"
      },
      "outputs": [],
      "source": [
        "import cv2\n",
        "import mediapipe as np\n",
        "import time\n",
        "import math\n",
        "\n",
        "class handDetector():\n",
        "    def __init__(self, mode=False, maxHands=2, detectionCon=0.5, trackCon=0.5):\n",
        "        self.mode = mode\n",
        "        self.maxHands = maxHands\n",
        "        self.detectionCon = detectionCon\n",
        "        self.trackCon = trackCon\n",
        "\n",
        "        self.npHands = np.solutions.hands\n",
        "        self.hands = self.npHands.Hands(self.mode, self.maxHands, self.detectionCon, self.trackCon)\n",
        "        self.npDraw = np.solutions.drawing_utils\n",
        "        self.tipIds = [4, 8, 12, 16, 20]"
      ]
    },
    {
      "cell_type": "code",
      "execution_count": 55,
      "metadata": {
        "id": "rJDs29hMtB6J"
      },
      "outputs": [],
      "source": [
        "def findHands(self, img, draw=True):\n",
        "    imgRGB = cv2.cvtColor(img, cv2.COLOR_BGR2RGB)\n",
        "    self.results = self.hands.process(imgRGB)\n",
        "\n",
        "    if self.results.multi_hand_landmarks:\n",
        "        for handLMS in self.results.multi_hand_landmarks:\n",
        "            if draw:\n",
        "                self.npDraw.draw_landmarks(img, handLMS, self.npHands.HAND_CONNECTIONS)\n",
        "    return img"
      ]
    },
    {
      "cell_type": "code",
      "execution_count": 56,
      "metadata": {
        "id": "flCzIFITtB6K"
      },
      "outputs": [],
      "source": [
        "def findPosition(self, img, handNo=0, draw=True):\n",
        "    self.lmlist = []\n",
        "\n",
        "    if self.results.multi_hand_landmarks:\n",
        "        myhand = self.results.multi_hand_landmarks[handNo]\n",
        "        for id, lm in enumerate(myhand.landmark):\n",
        "            h, w, c = img.shape\n",
        "            cx, cy = int(lm.x * w), int(lm.y * h)\n",
        "            self.lmlist.append([id, cx, cy])\n",
        "\n",
        "            if draw:\n",
        "                cv2.circle(img, (cx, cy), 7, (255, 0, 255), cv2.FILLED)\n",
        "\n",
        "    return self.lmlist"
      ]
    },
    {
      "cell_type": "code",
      "execution_count": 57,
      "metadata": {
        "id": "WWteNoi0tB6K"
      },
      "outputs": [],
      "source": [
        "def fingerUp(self):\n",
        "    finger = []\n",
        "    # Thumb\n",
        "    if self.lmlist[self.tipIds[0]][1] < self.lmlist[self.tipIds[0] - 1][1]:\n",
        "        finger.append(0)\n",
        "    else:\n",
        "        finger.append(1)\n",
        "\n",
        "    # 4 fingers\n",
        "    for id in range(1, 5):\n",
        "        if self.lmlist[self.tipIds[id]][2] < self.lmlist[self.tipIds[id] - 2][2]:\n",
        "            finger.append(1)\n",
        "        else:\n",
        "            finger.append(0)\n",
        "    return finger"
      ]
    },
    {
      "cell_type": "code",
      "execution_count": 58,
      "metadata": {
        "id": "zedIZIYmwjzl"
      },
      "outputs": [],
      "source": [
        "# !pip install HandTrackingModule\n",
        "# !pip install cvzone\n"
      ]
    },
    {
      "cell_type": "code",
      "execution_count": 59,
      "metadata": {
        "id": "xgEFEosWtB6K"
      },
      "outputs": [],
      "source": [
        "# Import opencv for computer vision stuff\n",
        "import cv2\n",
        "import numpy as np\n",
        "from PIL import ImageFont, ImageDraw, Image\n",
        "# Import hand Tracking Module\n",
        "from cvzone.HandTrackingModule import HandDetector\n",
        "\n",
        "class AirSigning:\n",
        "    def __init__(self, defaultCam=0):\n",
        "        self.primaryCam = defaultCam\n",
        "        self.camHeight, self.camWidth = 540, 960\n",
        "        self.detector = HandDetector(maxHands=1)\n",
        "        self.drawColor = (141, 43, 193)\n",
        "        self.brushThickness = 5\n",
        "        self.smooth = 3\n",
        "        self.retrySign = 0\n",
        "\n",
        "    def drawSign(self):\n",
        "        # Connect to webcam\n",
        "        cap = cv2.VideoCapture(self.primaryCam)\n",
        "        self.camWidth = int(cap.get(3))\n",
        "        self.camHeight = int(cap.get(4))\n",
        "\n",
        "        # Sign Area rectangle\n",
        "        rectIniWid, rectIniHei = int(self.camWidth * 0.1), int(self.camHeight * 0.1)\n",
        "        rectEndWid, rectEndHei = int(self.camWidth * 0.9), int(self.camHeight * 0.4)\n",
        "        xPrevious, yPrevious = 0, 0\n",
        "        imgCanvas = np.zeros((self.camHeight, self.camWidth, 3), np.uint8)\n",
        "\n",
        "        while cap.isOpened():\n",
        "            ret, frame = cap.read()\n",
        "\n",
        "            frame = cv2.flip(frame, 1)\n",
        "            frame = self.detector.findHands(frame)\n",
        "            lmList = self.detector.findPosition(frame, draw=False)\n",
        "\n",
        "            if len(lmList) != 0:\n",
        "                # tip of index finger\n",
        "                indFx, indFy = lmList[8][1:]\n",
        "\n",
        "                # fingers up detection\n",
        "                fingers = self.detector.fingerUp()\n",
        "\n",
        "                # Pause Mode\n",
        "                if fingers[1] and fingers[2]:\n",
        "                    xPrevious, yPrevious = 0, 0\n",
        "\n",
        "                # Draw Mode\n",
        "                if fingers[1] and not fingers[2] and not fingers[3] and not fingers[4] and \\\n",
        "                        rectIniWid < indFx < rectEndWid and rectIniHei < indFy < rectEndHei:\n",
        "\n",
        "                    cv2.circle(frame, (indFx, indFy), 10, self.drawColor, cv2.FILLED)\n",
        "\n",
        "                    if xPrevious == 0 and yPrevious == 0:\n",
        "                        xPrevious, yPrevious = indFx, indFy\n",
        "\n",
        "                    indFx = xPrevious + (indFx - xPrevious) // self.smooth\n",
        "                    indFy = yPrevious + (indFy - yPrevious) // self.smooth\n",
        "\n",
        "                    cv2.line(imgCanvas, (xPrevious, yPrevious), (indFx, indFy), self.drawColor, self.brushThickness)\n",
        "                    xPrevious, yPrevious = indFx, indFy\n",
        "\n",
        "                if fingers[1:4] == [1, 1, 1]:\n",
        "                    imgCanvas = np.zeros((self.camHeight, self.camWidth, 3), np.uint8)\n",
        "\n",
        "            imgGray = cv2.cvtColor(imgCanvas, cv2.COLOR_BGR2GRAY)\n",
        "            _, imgInv = cv2.threshold(imgGray, 50, 255, cv2.THRESH_BINARY_INV)\n",
        "            imgInv = cv2.cvtColor(imgInv, cv2.COLOR_GRAY2BGR)\n",
        "            frame = cv2.bitwise_and(frame, imgInv)\n",
        "            frame = cv2.bitwise_or(frame, imgCanvas)\n",
        "\n",
        "            frame = cv2.rectangle(frame, (rectIniWid, rectIniHei), (rectEndWid, rectEndHei), (0, 78, 0), 2)\n",
        "\n",
        "            font = cv2.FONT_HERSHEY_SIMPLEX\n",
        "            font_scale = 0.8\n",
        "            position = (self.camWidth // 2, self.camHeight - 30)\n",
        "            color = (0, 0, 0)\n",
        "            cv2.putText(frame, \"After draw press 'Q' to continue - >\", position, font, font_scale, color, 2, cv2.LINE_AA)\n",
        "\n",
        "            cv2.imshow('Webcam', frame)\n",
        "\n",
        "            if cv2.waitKey(1) & 0xFF == ord('q'):\n",
        "                pngOfSign = self.removeBlackBackground(imgCanvas)\n",
        "                cv2.imwrite(\"\\\\tempSign.png\",\n",
        "                            pngOfSign[rectIniHei:rectEndHei, rectIniWid:rectEndWid])\n",
        "                break\n",
        "\n",
        "        cap.release()\n",
        "        cv2.destroyAllWindows()\n",
        "\n",
        "        self.retrySign += 1\n",
        "\n",
        "        return \"\\\\tempSign.png\"\n",
        "\n"
      ]
    },
    {
      "cell_type": "code",
      "execution_count": 60,
      "metadata": {
        "id": "cCKL4woetB6K"
      },
      "outputs": [],
      "source": [
        "def removeBlackBackground(self, imgCanvas):\n",
        "    # convert the image to grayscale\n",
        "    gray = cv2.cvtColor(imgCanvas, cv2.COLOR_BGR2GRAY)\n",
        "\n",
        "    # threshold the image to create a mask\n",
        "    _, mask = cv2.threshold(gray, 0, 255, cv2.THRESH_BINARY)\n",
        "\n",
        "    # invert the mask\n",
        "    mask_inv = cv2.bitwise_not(mask)\n",
        "\n",
        "    # apply the mask to the image\n",
        "    img_masked = cv2.bitwise_and(imgCanvas, imgCanvas, mask=mask)\n",
        "\n",
        "    # add an alpha channel to the image\n",
        "    alpha = np.ones(imgCanvas.shape[:2], dtype=np.uint8) * 255\n",
        "    alpha[mask_inv == 255] = 0\n",
        "\n",
        "    return cv2.merge((img_masked, alpha))"
      ]
    },
    {
      "cell_type": "code",
      "execution_count": 61,
      "metadata": {
        "id": "XfRDe3fhtB6L"
      },
      "outputs": [],
      "source": [
        "if __name__ == \"__main__\":\n",
        "    signComponent = AirSigning()\n",
        "    signComponent.drawSign()"
      ]
    },
    {
      "cell_type": "code",
      "execution_count": 61,
      "metadata": {
        "id": "EobCshOKyk1b"
      },
      "outputs": [],
      "source": []
    }
  ],
  "metadata": {
    "colab": {
      "provenance": []
    },
    "kernelspec": {
      "display_name": ".venv",
      "language": "python",
      "name": "python3"
    },
    "language_info": {
      "codemirror_mode": {
        "name": "ipython",
        "version": 3
      },
      "file_extension": ".py",
      "mimetype": "text/x-python",
      "name": "python",
      "nbconvert_exporter": "python",
      "pygments_lexer": "ipython3",
      "version": "3.11.5"
    }
  },
  "nbformat": 4,
  "nbformat_minor": 0
}
